{
  "nbformat": 4,
  "nbformat_minor": 0,
  "metadata": {
    "colab": {
      "provenance": [],
      "authorship_tag": "ABX9TyObNy30nN6/Aun5/Lgk1cQ/",
      "include_colab_link": true
    },
    "kernelspec": {
      "name": "python3",
      "display_name": "Python 3"
    },
    "language_info": {
      "name": "python"
    }
  },
  "cells": [
    {
      "cell_type": "markdown",
      "metadata": {
        "id": "view-in-github",
        "colab_type": "text"
      },
      "source": [
        "<a href=\"https://colab.research.google.com/github/PosgradoMNA/Actividades-de-aprendizaje.-Yocelin-Juarez-Arroyo-A00819828/blob/main/IBM_Python_Module_5.ipynb\" target=\"_parent\"><img src=\"https://colab.research.google.com/assets/colab-badge.svg\" alt=\"Open In Colab\"/></a>"
      ]
    },
    {
      "cell_type": "markdown",
      "source": [
        "#Numpy 1D Arrays"
      ],
      "metadata": {
        "id": "YnZ7m7coKZcu"
      }
    },
    {
      "cell_type": "code",
      "source": [
        "#Para empezar a trabajar con NumPy, lo primero que debemos hacer es importarlo\n",
        "import numpy as np\n",
        "#Lo que hice fue acortar en nomre NumPy como np, para facilitar el acceso"
      ],
      "metadata": {
        "id": "QucuFvTNK9jt"
      },
      "execution_count": 7,
      "outputs": []
    },
    {
      "cell_type": "code",
      "source": [
        "a = np.array([25, 45, 82, 37, 71])\n",
        "a\n",
        "#Creamor un numpy"
      ],
      "metadata": {
        "colab": {
          "base_uri": "https://localhost:8080/"
        },
        "id": "qA1PPeS1LVhP",
        "outputId": "3d570466-6fca-48b8-cc16-f018b11982cb"
      },
      "execution_count": 13,
      "outputs": [
        {
          "output_type": "execute_result",
          "data": {
            "text/plain": [
              "array([25, 45, 82, 37, 71])"
            ]
          },
          "metadata": {},
          "execution_count": 13
        }
      ]
    },
    {
      "cell_type": "code",
      "source": [
        "#Podemos acceder a cualquier termino mediante su índice\n",
        "print(a[2])"
      ],
      "metadata": {
        "colab": {
          "base_uri": "https://localhost:8080/"
        },
        "id": "FVMZyREOLobm",
        "outputId": "46d8148d-c94c-4ed7-b0e8-0ab3fe051c96"
      },
      "execution_count": 15,
      "outputs": [
        {
          "output_type": "stream",
          "name": "stdout",
          "text": [
            "82\n"
          ]
        }
      ]
    },
    {
      "cell_type": "code",
      "source": [
        "#Cambiar valores en el Numpy\n",
        "a[1]=999\n",
        "a"
      ],
      "metadata": {
        "colab": {
          "base_uri": "https://localhost:8080/"
        },
        "id": "bmXRbC6GMHal",
        "outputId": "509f7fcc-0633-4e00-fdb3-004394b68ea9"
      },
      "execution_count": 18,
      "outputs": [
        {
          "output_type": "execute_result",
          "data": {
            "text/plain": [
              "array([ 25, 999,  82,  37,  71])"
            ]
          },
          "metadata": {},
          "execution_count": 18
        }
      ]
    },
    {
      "cell_type": "code",
      "source": [
        "#Partir el Numpy para conseguir otro\n",
        "b=a[0:3]\n",
        "b"
      ],
      "metadata": {
        "colab": {
          "base_uri": "https://localhost:8080/"
        },
        "id": "Jt8N5K_uMW2G",
        "outputId": "0d052ba1-71b8-4253-b423-6a0a6926ea9f"
      },
      "execution_count": 20,
      "outputs": [
        {
          "output_type": "execute_result",
          "data": {
            "text/plain": [
              "array([ 25, 999,  82])"
            ]
          },
          "metadata": {},
          "execution_count": 20
        }
      ]
    },
    {
      "cell_type": "code",
      "source": [
        "select=[0,2,3,4]\n",
        "select\n",
        "#Creamor valores que queremos seleccionar"
      ],
      "metadata": {
        "colab": {
          "base_uri": "https://localhost:8080/"
        },
        "id": "mFR7z842MGtm",
        "outputId": "e9f297ff-0518-415c-ef45-5dcfd21dddf8"
      },
      "execution_count": 21,
      "outputs": [
        {
          "output_type": "execute_result",
          "data": {
            "text/plain": [
              "[0, 2, 3, 4]"
            ]
          },
          "metadata": {},
          "execution_count": 21
        }
      ]
    },
    {
      "cell_type": "code",
      "source": [
        "c=a[select]\n",
        "c\n",
        "#Solo no da un numpy con las posiciones que elegimos en el punto anterior"
      ],
      "metadata": {
        "colab": {
          "base_uri": "https://localhost:8080/"
        },
        "id": "X6Xi0v1uMw3N",
        "outputId": "739efae6-fc1a-435f-f313-467f8278363e"
      },
      "execution_count": 22,
      "outputs": [
        {
          "output_type": "execute_result",
          "data": {
            "text/plain": [
              "array([25, 82, 37, 71])"
            ]
          },
          "metadata": {},
          "execution_count": 22
        }
      ]
    },
    {
      "cell_type": "code",
      "source": [
        "#Podemos realizar operaciones entren numpys\n",
        "#SUMA\n",
        "arr1 = np.array([10, 11, 12, 13, 14, 15])\n",
        "arr2 = np.array([20, 21, 22, 23, 24, 25])\n",
        "arr3=np.add(arr1,arr2)\n",
        "arr3"
      ],
      "metadata": {
        "colab": {
          "base_uri": "https://localhost:8080/"
        },
        "id": "vDPDYRstNHHP",
        "outputId": "49967215-e89b-408b-d9e6-4d25b638985f"
      },
      "execution_count": 23,
      "outputs": [
        {
          "output_type": "execute_result",
          "data": {
            "text/plain": [
              "array([30, 32, 34, 36, 38, 40])"
            ]
          },
          "metadata": {},
          "execution_count": 23
        }
      ]
    },
    {
      "cell_type": "code",
      "source": [
        "#RESTA\n",
        "arr1 = np.array([10, 20, 30, 40, 50, 60])\n",
        "arr2 = np.array([20, 21, 22, 23, 24, 25])\n",
        "arr3=np.subtract(arr1,arr2)\n",
        "arr3"
      ],
      "metadata": {
        "colab": {
          "base_uri": "https://localhost:8080/"
        },
        "id": "cfcbzZPeNR0H",
        "outputId": "31a36211-88ff-4871-82ce-f49789efb1ff"
      },
      "execution_count": 24,
      "outputs": [
        {
          "output_type": "execute_result",
          "data": {
            "text/plain": [
              "array([-10,  -1,   8,  17,  26,  35])"
            ]
          },
          "metadata": {},
          "execution_count": 24
        }
      ]
    },
    {
      "cell_type": "code",
      "source": [
        "#MULTIPLICACION\n",
        "arr1 = np.array([10, 20, 30, 40, 50, 60])\n",
        "arr2 = np.array([2, 1, 2, 3, 4, 5])\n",
        "arr3=np.multiply(arr1,arr2)\n",
        "arr3"
      ],
      "metadata": {
        "colab": {
          "base_uri": "https://localhost:8080/"
        },
        "id": "zHkSSEQ1NWFV",
        "outputId": "26cc56dd-fd24-48ef-c3ca-c512db5b6225"
      },
      "execution_count": 25,
      "outputs": [
        {
          "output_type": "execute_result",
          "data": {
            "text/plain": [
              "array([ 20,  20,  60, 120, 200, 300])"
            ]
          },
          "metadata": {},
          "execution_count": 25
        }
      ]
    },
    {
      "cell_type": "code",
      "source": [
        "#DIVISIÓN\n",
        "arr1 = np.array([10, 20, 30, 40, 50, 60])\n",
        "arr2 = np.array([3, 5, 10, 8, 2, 33])\n",
        "arr3=np.divide(arr1,arr2)\n",
        "arr3"
      ],
      "metadata": {
        "colab": {
          "base_uri": "https://localhost:8080/"
        },
        "id": "iISHc71YNcxW",
        "outputId": "9de8dc93-f176-4ddc-a68d-30ef508e88be"
      },
      "execution_count": 26,
      "outputs": [
        {
          "output_type": "execute_result",
          "data": {
            "text/plain": [
              "array([ 3.33333333,  4.        ,  3.        ,  5.        , 25.        ,\n",
              "        1.81818182])"
            ]
          },
          "metadata": {},
          "execution_count": 26
        }
      ]
    },
    {
      "cell_type": "code",
      "source": [
        "#PRODUCTO PUNTO\n",
        "arr1 = np.array([10, 20, 30, 40, 50, 60])\n",
        "arr2 = np.array([3, 5, 10, 8, 2, 33])\n",
        "np.dot(arr1,arr2)"
      ],
      "metadata": {
        "colab": {
          "base_uri": "https://localhost:8080/"
        },
        "id": "nm0Qfk2VNidO",
        "outputId": "222f7449-0984-4384-be65-2ca9f110bf99"
      },
      "execution_count": 29,
      "outputs": [
        {
          "output_type": "execute_result",
          "data": {
            "text/plain": [
              "2830"
            ]
          },
          "metadata": {},
          "execution_count": 29
        }
      ]
    },
    {
      "cell_type": "markdown",
      "source": [
        "#Numpy 2D Arrays"
      ],
      "metadata": {
        "id": "omrWCgNIKamU"
      }
    },
    {
      "cell_type": "code",
      "source": [
        "#para crear unn Numpy de 2 dimensiones primero hacemos una lista\n",
        "a = [[11, 12, 13], [21, 22, 23], [31, 32, 33]]\n",
        "a"
      ],
      "metadata": {
        "colab": {
          "base_uri": "https://localhost:8080/"
        },
        "id": "xZ0RcuM2PFal",
        "outputId": "48722f4c-564b-40b3-ea79-a38d7eb7eeea"
      },
      "execution_count": 31,
      "outputs": [
        {
          "output_type": "execute_result",
          "data": {
            "text/plain": [
              "[[11, 12, 13], [21, 22, 23], [31, 32, 33]]"
            ]
          },
          "metadata": {},
          "execution_count": 31
        }
      ]
    },
    {
      "cell_type": "code",
      "source": [
        "A = np.array(a)\n",
        "A\n",
        "#y luego lo convertimos en Numpy"
      ],
      "metadata": {
        "colab": {
          "base_uri": "https://localhost:8080/"
        },
        "id": "pi8gqCLHQHII",
        "outputId": "86fb929e-90de-4156-8909-e0db1638c42b"
      },
      "execution_count": 32,
      "outputs": [
        {
          "output_type": "execute_result",
          "data": {
            "text/plain": [
              "array([[11, 12, 13],\n",
              "       [21, 22, 23],\n",
              "       [31, 32, 33]])"
            ]
          },
          "metadata": {},
          "execution_count": 32
        }
      ]
    },
    {
      "cell_type": "code",
      "source": [
        "#Podemos acceder a diferentes posiciones en el Numpy\n",
        "A[1,2]"
      ],
      "metadata": {
        "colab": {
          "base_uri": "https://localhost:8080/"
        },
        "id": "NUSrtuChQk1V",
        "outputId": "7cd0536b-eeca-4952-d82b-146993e3d03b"
      },
      "execution_count": 34,
      "outputs": [
        {
          "output_type": "execute_result",
          "data": {
            "text/plain": [
              "23"
            ]
          },
          "metadata": {},
          "execution_count": 34
        }
      ]
    },
    {
      "cell_type": "code",
      "source": [
        "A[2,2]"
      ],
      "metadata": {
        "colab": {
          "base_uri": "https://localhost:8080/"
        },
        "id": "qPnJgjccQwOX",
        "outputId": "70c2dd8a-d9b2-4766-8fa0-eed3ab56d87b"
      },
      "execution_count": 36,
      "outputs": [
        {
          "output_type": "execute_result",
          "data": {
            "text/plain": [
              "33"
            ]
          },
          "metadata": {},
          "execution_count": 36
        }
      ]
    },
    {
      "cell_type": "code",
      "source": [
        "A[0,0]"
      ],
      "metadata": {
        "colab": {
          "base_uri": "https://localhost:8080/"
        },
        "id": "5lFaSlh_Qz-1",
        "outputId": "a4c0aecb-48b6-4f44-c335-3a5344bfd491"
      },
      "execution_count": 37,
      "outputs": [
        {
          "output_type": "execute_result",
          "data": {
            "text/plain": [
              "11"
            ]
          },
          "metadata": {},
          "execution_count": 37
        }
      ]
    },
    {
      "cell_type": "code",
      "source": [
        "#Podemos acceder a puntos específicos o grupos\n",
        "A[0][0:2]"
      ],
      "metadata": {
        "colab": {
          "base_uri": "https://localhost:8080/"
        },
        "id": "NUoNZH3aQ8A_",
        "outputId": "d0b4f842-f748-4849-aa81-20da8a8286ab"
      },
      "execution_count": 38,
      "outputs": [
        {
          "output_type": "execute_result",
          "data": {
            "text/plain": [
              "array([11, 12])"
            ]
          },
          "metadata": {},
          "execution_count": 38
        }
      ]
    },
    {
      "cell_type": "code",
      "source": [
        "#Otro ejemplo de lo anterior es el siguiente\n",
        "A[0:2, 2]"
      ],
      "metadata": {
        "colab": {
          "base_uri": "https://localhost:8080/"
        },
        "id": "lUCpf_VORGRd",
        "outputId": "6fc8d236-0614-47d0-f4b9-2a133ecce8de"
      },
      "execution_count": 39,
      "outputs": [
        {
          "output_type": "execute_result",
          "data": {
            "text/plain": [
              "array([13, 23])"
            ]
          },
          "metadata": {},
          "execution_count": 39
        }
      ]
    },
    {
      "cell_type": "code",
      "source": [
        "#Podemos hacer operaciones entre numpy, por ejmplo, declaramos dos numpy\n",
        "X = np.array([[1, 0], [0, 1]]) \n",
        "X\n",
        "Y = np.array([[2, 1], [1, 2]]) \n",
        "Y"
      ],
      "metadata": {
        "colab": {
          "base_uri": "https://localhost:8080/"
        },
        "id": "YRRE0x-ZRKzl",
        "outputId": "d5d18b69-647a-4ec3-ccc7-e3b0af7fabd7"
      },
      "execution_count": 42,
      "outputs": [
        {
          "output_type": "execute_result",
          "data": {
            "text/plain": [
              "array([[2, 1],\n",
              "       [1, 2]])"
            ]
          },
          "metadata": {},
          "execution_count": 42
        }
      ]
    },
    {
      "cell_type": "code",
      "source": [
        "print(X)\n",
        "print(Y)"
      ],
      "metadata": {
        "colab": {
          "base_uri": "https://localhost:8080/"
        },
        "id": "FL_jCNyiRLSL",
        "outputId": "2d434115-33b2-483e-a5d2-b93d34b1b103"
      },
      "execution_count": 43,
      "outputs": [
        {
          "output_type": "stream",
          "name": "stdout",
          "text": [
            "[[1 0]\n",
            " [0 1]]\n",
            "[[2 1]\n",
            " [1 2]]\n"
          ]
        }
      ]
    },
    {
      "cell_type": "code",
      "source": [
        "#Realizamos una suma entre las numpyes\n",
        "Z = X + Y\n",
        "Z"
      ],
      "metadata": {
        "colab": {
          "base_uri": "https://localhost:8080/"
        },
        "id": "3MWpWYMkReON",
        "outputId": "3aee8c80-beb4-42fc-f5fa-f16e2f97f7cc"
      },
      "execution_count": 44,
      "outputs": [
        {
          "output_type": "execute_result",
          "data": {
            "text/plain": [
              "array([[3, 1],\n",
              "       [1, 3]])"
            ]
          },
          "metadata": {},
          "execution_count": 44
        }
      ]
    },
    {
      "cell_type": "code",
      "source": [
        "#Así mismo podemos multiplicarlas por ellas mismas o por otra numpy\n",
        "Z = 2 * Y\n",
        "Z"
      ],
      "metadata": {
        "colab": {
          "base_uri": "https://localhost:8080/"
        },
        "id": "VIVLQuCbRmvP",
        "outputId": "758e09d4-6351-41b7-8eec-225e80069635"
      },
      "execution_count": 45,
      "outputs": [
        {
          "output_type": "execute_result",
          "data": {
            "text/plain": [
              "array([[4, 2],\n",
              "       [2, 4]])"
            ]
          },
          "metadata": {},
          "execution_count": 45
        }
      ]
    },
    {
      "cell_type": "code",
      "source": [
        "#A continuación las multipliqué entre ellas\n",
        "Z = X * Y\n",
        "Z"
      ],
      "metadata": {
        "colab": {
          "base_uri": "https://localhost:8080/"
        },
        "id": "aq6QWdfARvDd",
        "outputId": "badd296f-e22c-43f1-f654-bc04911cf31a"
      },
      "execution_count": 47,
      "outputs": [
        {
          "output_type": "execute_result",
          "data": {
            "text/plain": [
              "array([[2, 0],\n",
              "       [0, 2]])"
            ]
          },
          "metadata": {},
          "execution_count": 47
        }
      ]
    },
    {
      "cell_type": "code",
      "source": [
        "#Ahora vamos a calcular el producto punto\n",
        "Z = np.dot(X,Y)\n",
        "Z"
      ],
      "metadata": {
        "colab": {
          "base_uri": "https://localhost:8080/"
        },
        "id": "1dCJ8VaTSKfO",
        "outputId": "eb88fbab-1fc2-4dc7-b08a-ade79df92046"
      },
      "execution_count": 50,
      "outputs": [
        {
          "output_type": "execute_result",
          "data": {
            "text/plain": [
              "array([[2, 1],\n",
              "       [1, 2]])"
            ]
          },
          "metadata": {},
          "execution_count": 50
        }
      ]
    },
    {
      "cell_type": "code",
      "source": [
        "np.sin(Z)"
      ],
      "metadata": {
        "colab": {
          "base_uri": "https://localhost:8080/"
        },
        "id": "J7EglRlsSVrm",
        "outputId": "cc58a6f3-bf94-4a83-9620-f6a5b2dd61e8"
      },
      "execution_count": 51,
      "outputs": [
        {
          "output_type": "execute_result",
          "data": {
            "text/plain": [
              "array([[0.90929743, 0.84147098],\n",
              "       [0.84147098, 0.90929743]])"
            ]
          },
          "metadata": {},
          "execution_count": 51
        }
      ]
    },
    {
      "cell_type": "code",
      "source": [
        "C = np.array([[1,1],[2,2],[3,3]])\n",
        "C"
      ],
      "metadata": {
        "colab": {
          "base_uri": "https://localhost:8080/"
        },
        "id": "WNcVc9vWSY8O",
        "outputId": "c4e6f90a-eb5a-4f05-a5c3-e4567dbdc444"
      },
      "execution_count": 52,
      "outputs": [
        {
          "output_type": "execute_result",
          "data": {
            "text/plain": [
              "array([[1, 1],\n",
              "       [2, 2],\n",
              "       [3, 3]])"
            ]
          },
          "metadata": {},
          "execution_count": 52
        }
      ]
    },
    {
      "cell_type": "code",
      "source": [
        "C.T\n",
        "#La función anterior es para crear una traspuesta de la matriz"
      ],
      "metadata": {
        "colab": {
          "base_uri": "https://localhost:8080/"
        },
        "id": "mKiRAfKGSb2l",
        "outputId": "c8f41085-c72f-4882-8ac4-e5709416499e"
      },
      "execution_count": 53,
      "outputs": [
        {
          "output_type": "execute_result",
          "data": {
            "text/plain": [
              "array([[1, 2, 3],\n",
              "       [1, 2, 3]])"
            ]
          },
          "metadata": {},
          "execution_count": 53
        }
      ]
    },
    {
      "cell_type": "markdown",
      "source": [
        "#Simple APIs"
      ],
      "metadata": {
        "id": "8wHm8EV3Ke4V"
      }
    },
    {
      "cell_type": "markdown",
      "source": [
        "Un API es un interfaz de programa de operaciones y son creados para hacer posible la interacción de dos sistemas informáticos."
      ],
      "metadata": {
        "id": "V98LnwShTHet"
      }
    },
    {
      "cell_type": "code",
      "source": [
        "#Para comenzar instalamos randomuser\n",
        "!pip install randomuser"
      ],
      "metadata": {
        "colab": {
          "base_uri": "https://localhost:8080/"
        },
        "id": "m8_-8xNxMwPl",
        "outputId": "960e35b8-aa4c-4d05-ba61-1351188a9312"
      },
      "execution_count": 54,
      "outputs": [
        {
          "output_type": "stream",
          "name": "stdout",
          "text": [
            "Looking in indexes: https://pypi.org/simple, https://us-python.pkg.dev/colab-wheels/public/simple/\n",
            "Collecting randomuser\n",
            "  Downloading randomuser-1.6.tar.gz (5.0 kB)\n",
            "Building wheels for collected packages: randomuser\n",
            "  Building wheel for randomuser (setup.py) ... \u001b[?25l\u001b[?25hdone\n",
            "  Created wheel for randomuser: filename=randomuser-1.6-py3-none-any.whl size=5084 sha256=e958da1094f522d13bb3217f1c26e4c0e29ae5373561a863bdc26206404a4a32\n",
            "  Stored in directory: /root/.cache/pip/wheels/21/10/7b/c13bc3e24a3c1000a34554802ad8aa0ff27df56366998a0473\n",
            "Successfully built randomuser\n",
            "Installing collected packages: randomuser\n",
            "Successfully installed randomuser-1.6\n"
          ]
        }
      ]
    },
    {
      "cell_type": "code",
      "source": [
        "#Y fueron cargadas las librerias necesarias\n",
        "from randomuser import RandomUser\n",
        "import pandas as pd"
      ],
      "metadata": {
        "id": "I4reXyT8T71u"
      },
      "execution_count": 55,
      "outputs": []
    },
    {
      "cell_type": "code",
      "source": [
        "r = RandomUser()"
      ],
      "metadata": {
        "id": "msRstC50T8Ee"
      },
      "execution_count": 56,
      "outputs": []
    },
    {
      "cell_type": "code",
      "source": [
        "some_list = r.generate_users(10)\n",
        "some_list"
      ],
      "metadata": {
        "colab": {
          "base_uri": "https://localhost:8080/"
        },
        "id": "AbcmInysT8Pw",
        "outputId": "52175b0c-9277-4dd3-fdc6-0ba98016cb1a"
      },
      "execution_count": 57,
      "outputs": [
        {
          "output_type": "execute_result",
          "data": {
            "text/plain": [
              "[<randomuser.RandomUser at 0x7f498b4ac250>,\n",
              " <randomuser.RandomUser at 0x7f498b4ac290>,\n",
              " <randomuser.RandomUser at 0x7f498b4ac2d0>,\n",
              " <randomuser.RandomUser at 0x7f498b4ac310>,\n",
              " <randomuser.RandomUser at 0x7f498b4ac350>,\n",
              " <randomuser.RandomUser at 0x7f498b4ac3d0>,\n",
              " <randomuser.RandomUser at 0x7f498b4ac410>,\n",
              " <randomuser.RandomUser at 0x7f498b4ac450>,\n",
              " <randomuser.RandomUser at 0x7f498b4ac490>,\n",
              " <randomuser.RandomUser at 0x7f498b4ac390>]"
            ]
          },
          "metadata": {},
          "execution_count": 57
        }
      ]
    },
    {
      "cell_type": "code",
      "source": [
        "name = r.get_full_name()"
      ],
      "metadata": {
        "id": "KZG8QrmyUI2D"
      },
      "execution_count": 58,
      "outputs": []
    },
    {
      "cell_type": "code",
      "source": [
        "for user in some_list:\n",
        "    print (user.get_full_name(),\" \",user.get_email())"
      ],
      "metadata": {
        "colab": {
          "base_uri": "https://localhost:8080/"
        },
        "id": "D3OBH4sBUKiW",
        "outputId": "2b80a0e3-20bb-4ba8-8ff3-205869ff3c85"
      },
      "execution_count": 59,
      "outputs": [
        {
          "output_type": "stream",
          "name": "stdout",
          "text": [
            "Deniz Çetin   deniz.cetin@example.com\n",
            "Oscar Wiesmann   oscar.wiesmann@example.com\n",
            "Maeve Silva   maeve.silva@example.com\n",
            "Marsha Mills   marsha.mills@example.com\n",
            "Gerardo Medina   gerardo.medina@example.com\n",
            "Volkan Samancı   volkan.samanci@example.com\n",
            "Alvin Rhodes   alvin.rhodes@example.com\n",
            "Julião Farias   juliao.farias@example.com\n",
            "Nawfal Sikkema   nawfal.sikkema@example.com\n",
            "Eden Wang   eden.wang@example.com\n"
          ]
        }
      ]
    },
    {
      "cell_type": "code",
      "source": [
        "for user in some_list:\n",
        "    print (user.get_picture())"
      ],
      "metadata": {
        "colab": {
          "base_uri": "https://localhost:8080/"
        },
        "id": "sAmRdrTnUMIT",
        "outputId": "92ad72fc-3648-4d1b-f5bf-15e0a258597a"
      },
      "execution_count": 60,
      "outputs": [
        {
          "output_type": "stream",
          "name": "stdout",
          "text": [
            "https://randomuser.me/api/portraits/men/45.jpg\n",
            "https://randomuser.me/api/portraits/men/65.jpg\n",
            "https://randomuser.me/api/portraits/women/1.jpg\n",
            "https://randomuser.me/api/portraits/women/2.jpg\n",
            "https://randomuser.me/api/portraits/men/5.jpg\n",
            "https://randomuser.me/api/portraits/men/84.jpg\n",
            "https://randomuser.me/api/portraits/men/4.jpg\n",
            "https://randomuser.me/api/portraits/men/17.jpg\n",
            "https://randomuser.me/api/portraits/men/88.jpg\n",
            "https://randomuser.me/api/portraits/women/73.jpg\n"
          ]
        }
      ]
    },
    {
      "cell_type": "code",
      "source": [
        "def get_users():\n",
        "    users =[]\n",
        "     \n",
        "    for user in RandomUser.generate_users(10):\n",
        "        users.append({\"Name\":user.get_full_name(),\"Gender\":user.get_gender(),\"City\":user.get_city(),\"State\":user.get_state(),\"Email\":user.get_email(), \"DOB\":user.get_dob(),\"Picture\":user.get_picture()})\n",
        "      \n",
        "    return pd.DataFrame(users)     "
      ],
      "metadata": {
        "id": "Z9YSMJBMUPzT"
      },
      "execution_count": 61,
      "outputs": []
    },
    {
      "cell_type": "code",
      "source": [
        "get_users()"
      ],
      "metadata": {
        "colab": {
          "base_uri": "https://localhost:8080/",
          "height": 363
        },
        "id": "QVwnpqtoUTG0",
        "outputId": "fecf4647-53ff-4b8f-e492-0417499a4c13"
      },
      "execution_count": 62,
      "outputs": [
        {
          "output_type": "execute_result",
          "data": {
            "text/plain": [
              "                  Name  Gender            City              State  \\\n",
              "0          Loris Morin    male           Nîmes          Finistère   \n",
              "1  Tony Van der Avoird    male      Oudeschoot          Flevoland   \n",
              "2        Helmine Takle  female         Leikong    Møre og Romsdal   \n",
              "3   Macit Süleymanoğlu    male      Kırklareli               Ordu   \n",
              "4        Thekla Gröger  female     Lichtenfels    Rheinland-Pfalz   \n",
              "5          Mandy Owens  female         Glasgow   County Fermanagh   \n",
              "6           رهام موسوی    male           بوشهر             گلستان   \n",
              "7            Tom Hicks    male  Sunshine Coast  Western Australia   \n",
              "8        Hudson Fortin    male         Keswick       Saskatchewan   \n",
              "9    Charlotte Kennedy  female         Shannon          Waterford   \n",
              "\n",
              "                            Email                       DOB  \\\n",
              "0         loris.morin@example.com  1994-01-08T03:36:31.067Z   \n",
              "1   tony.vanderavoird@example.com  1946-08-05T05:03:03.647Z   \n",
              "2       helmine.takle@example.com  1997-09-06T19:02:30.574Z   \n",
              "3  macit.suleymanoglu@example.com  1951-03-09T00:44:31.644Z   \n",
              "4       thekla.groger@example.com  1957-08-23T12:42:08.351Z   \n",
              "5         mandy.owens@example.com  1964-09-22T01:31:03.479Z   \n",
              "6           rhm.mwswy@example.com  1983-03-11T06:45:11.387Z   \n",
              "7           tom.hicks@example.com  1997-02-23T08:32:10.975Z   \n",
              "8       hudson.fortin@example.com  1975-11-08T06:45:08.564Z   \n",
              "9   charlotte.kennedy@example.com  1992-06-25T21:13:06.371Z   \n",
              "\n",
              "                                            Picture  \n",
              "0    https://randomuser.me/api/portraits/men/97.jpg  \n",
              "1    https://randomuser.me/api/portraits/men/94.jpg  \n",
              "2  https://randomuser.me/api/portraits/women/47.jpg  \n",
              "3    https://randomuser.me/api/portraits/men/38.jpg  \n",
              "4  https://randomuser.me/api/portraits/women/21.jpg  \n",
              "5  https://randomuser.me/api/portraits/women/65.jpg  \n",
              "6     https://randomuser.me/api/portraits/men/3.jpg  \n",
              "7    https://randomuser.me/api/portraits/men/86.jpg  \n",
              "8    https://randomuser.me/api/portraits/men/43.jpg  \n",
              "9  https://randomuser.me/api/portraits/women/36.jpg  "
            ],
            "text/html": [
              "\n",
              "  <div id=\"df-e46f1d38-d4ec-4a26-b133-df2ad6fb17e9\">\n",
              "    <div class=\"colab-df-container\">\n",
              "      <div>\n",
              "<style scoped>\n",
              "    .dataframe tbody tr th:only-of-type {\n",
              "        vertical-align: middle;\n",
              "    }\n",
              "\n",
              "    .dataframe tbody tr th {\n",
              "        vertical-align: top;\n",
              "    }\n",
              "\n",
              "    .dataframe thead th {\n",
              "        text-align: right;\n",
              "    }\n",
              "</style>\n",
              "<table border=\"1\" class=\"dataframe\">\n",
              "  <thead>\n",
              "    <tr style=\"text-align: right;\">\n",
              "      <th></th>\n",
              "      <th>Name</th>\n",
              "      <th>Gender</th>\n",
              "      <th>City</th>\n",
              "      <th>State</th>\n",
              "      <th>Email</th>\n",
              "      <th>DOB</th>\n",
              "      <th>Picture</th>\n",
              "    </tr>\n",
              "  </thead>\n",
              "  <tbody>\n",
              "    <tr>\n",
              "      <th>0</th>\n",
              "      <td>Loris Morin</td>\n",
              "      <td>male</td>\n",
              "      <td>Nîmes</td>\n",
              "      <td>Finistère</td>\n",
              "      <td>loris.morin@example.com</td>\n",
              "      <td>1994-01-08T03:36:31.067Z</td>\n",
              "      <td>https://randomuser.me/api/portraits/men/97.jpg</td>\n",
              "    </tr>\n",
              "    <tr>\n",
              "      <th>1</th>\n",
              "      <td>Tony Van der Avoird</td>\n",
              "      <td>male</td>\n",
              "      <td>Oudeschoot</td>\n",
              "      <td>Flevoland</td>\n",
              "      <td>tony.vanderavoird@example.com</td>\n",
              "      <td>1946-08-05T05:03:03.647Z</td>\n",
              "      <td>https://randomuser.me/api/portraits/men/94.jpg</td>\n",
              "    </tr>\n",
              "    <tr>\n",
              "      <th>2</th>\n",
              "      <td>Helmine Takle</td>\n",
              "      <td>female</td>\n",
              "      <td>Leikong</td>\n",
              "      <td>Møre og Romsdal</td>\n",
              "      <td>helmine.takle@example.com</td>\n",
              "      <td>1997-09-06T19:02:30.574Z</td>\n",
              "      <td>https://randomuser.me/api/portraits/women/47.jpg</td>\n",
              "    </tr>\n",
              "    <tr>\n",
              "      <th>3</th>\n",
              "      <td>Macit Süleymanoğlu</td>\n",
              "      <td>male</td>\n",
              "      <td>Kırklareli</td>\n",
              "      <td>Ordu</td>\n",
              "      <td>macit.suleymanoglu@example.com</td>\n",
              "      <td>1951-03-09T00:44:31.644Z</td>\n",
              "      <td>https://randomuser.me/api/portraits/men/38.jpg</td>\n",
              "    </tr>\n",
              "    <tr>\n",
              "      <th>4</th>\n",
              "      <td>Thekla Gröger</td>\n",
              "      <td>female</td>\n",
              "      <td>Lichtenfels</td>\n",
              "      <td>Rheinland-Pfalz</td>\n",
              "      <td>thekla.groger@example.com</td>\n",
              "      <td>1957-08-23T12:42:08.351Z</td>\n",
              "      <td>https://randomuser.me/api/portraits/women/21.jpg</td>\n",
              "    </tr>\n",
              "    <tr>\n",
              "      <th>5</th>\n",
              "      <td>Mandy Owens</td>\n",
              "      <td>female</td>\n",
              "      <td>Glasgow</td>\n",
              "      <td>County Fermanagh</td>\n",
              "      <td>mandy.owens@example.com</td>\n",
              "      <td>1964-09-22T01:31:03.479Z</td>\n",
              "      <td>https://randomuser.me/api/portraits/women/65.jpg</td>\n",
              "    </tr>\n",
              "    <tr>\n",
              "      <th>6</th>\n",
              "      <td>رهام موسوی</td>\n",
              "      <td>male</td>\n",
              "      <td>بوشهر</td>\n",
              "      <td>گلستان</td>\n",
              "      <td>rhm.mwswy@example.com</td>\n",
              "      <td>1983-03-11T06:45:11.387Z</td>\n",
              "      <td>https://randomuser.me/api/portraits/men/3.jpg</td>\n",
              "    </tr>\n",
              "    <tr>\n",
              "      <th>7</th>\n",
              "      <td>Tom Hicks</td>\n",
              "      <td>male</td>\n",
              "      <td>Sunshine Coast</td>\n",
              "      <td>Western Australia</td>\n",
              "      <td>tom.hicks@example.com</td>\n",
              "      <td>1997-02-23T08:32:10.975Z</td>\n",
              "      <td>https://randomuser.me/api/portraits/men/86.jpg</td>\n",
              "    </tr>\n",
              "    <tr>\n",
              "      <th>8</th>\n",
              "      <td>Hudson Fortin</td>\n",
              "      <td>male</td>\n",
              "      <td>Keswick</td>\n",
              "      <td>Saskatchewan</td>\n",
              "      <td>hudson.fortin@example.com</td>\n",
              "      <td>1975-11-08T06:45:08.564Z</td>\n",
              "      <td>https://randomuser.me/api/portraits/men/43.jpg</td>\n",
              "    </tr>\n",
              "    <tr>\n",
              "      <th>9</th>\n",
              "      <td>Charlotte Kennedy</td>\n",
              "      <td>female</td>\n",
              "      <td>Shannon</td>\n",
              "      <td>Waterford</td>\n",
              "      <td>charlotte.kennedy@example.com</td>\n",
              "      <td>1992-06-25T21:13:06.371Z</td>\n",
              "      <td>https://randomuser.me/api/portraits/women/36.jpg</td>\n",
              "    </tr>\n",
              "  </tbody>\n",
              "</table>\n",
              "</div>\n",
              "      <button class=\"colab-df-convert\" onclick=\"convertToInteractive('df-e46f1d38-d4ec-4a26-b133-df2ad6fb17e9')\"\n",
              "              title=\"Convert this dataframe to an interactive table.\"\n",
              "              style=\"display:none;\">\n",
              "        \n",
              "  <svg xmlns=\"http://www.w3.org/2000/svg\" height=\"24px\"viewBox=\"0 0 24 24\"\n",
              "       width=\"24px\">\n",
              "    <path d=\"M0 0h24v24H0V0z\" fill=\"none\"/>\n",
              "    <path d=\"M18.56 5.44l.94 2.06.94-2.06 2.06-.94-2.06-.94-.94-2.06-.94 2.06-2.06.94zm-11 1L8.5 8.5l.94-2.06 2.06-.94-2.06-.94L8.5 2.5l-.94 2.06-2.06.94zm10 10l.94 2.06.94-2.06 2.06-.94-2.06-.94-.94-2.06-.94 2.06-2.06.94z\"/><path d=\"M17.41 7.96l-1.37-1.37c-.4-.4-.92-.59-1.43-.59-.52 0-1.04.2-1.43.59L10.3 9.45l-7.72 7.72c-.78.78-.78 2.05 0 2.83L4 21.41c.39.39.9.59 1.41.59.51 0 1.02-.2 1.41-.59l7.78-7.78 2.81-2.81c.8-.78.8-2.07 0-2.86zM5.41 20L4 18.59l7.72-7.72 1.47 1.35L5.41 20z\"/>\n",
              "  </svg>\n",
              "      </button>\n",
              "      \n",
              "  <style>\n",
              "    .colab-df-container {\n",
              "      display:flex;\n",
              "      flex-wrap:wrap;\n",
              "      gap: 12px;\n",
              "    }\n",
              "\n",
              "    .colab-df-convert {\n",
              "      background-color: #E8F0FE;\n",
              "      border: none;\n",
              "      border-radius: 50%;\n",
              "      cursor: pointer;\n",
              "      display: none;\n",
              "      fill: #1967D2;\n",
              "      height: 32px;\n",
              "      padding: 0 0 0 0;\n",
              "      width: 32px;\n",
              "    }\n",
              "\n",
              "    .colab-df-convert:hover {\n",
              "      background-color: #E2EBFA;\n",
              "      box-shadow: 0px 1px 2px rgba(60, 64, 67, 0.3), 0px 1px 3px 1px rgba(60, 64, 67, 0.15);\n",
              "      fill: #174EA6;\n",
              "    }\n",
              "\n",
              "    [theme=dark] .colab-df-convert {\n",
              "      background-color: #3B4455;\n",
              "      fill: #D2E3FC;\n",
              "    }\n",
              "\n",
              "    [theme=dark] .colab-df-convert:hover {\n",
              "      background-color: #434B5C;\n",
              "      box-shadow: 0px 1px 3px 1px rgba(0, 0, 0, 0.15);\n",
              "      filter: drop-shadow(0px 1px 2px rgba(0, 0, 0, 0.3));\n",
              "      fill: #FFFFFF;\n",
              "    }\n",
              "  </style>\n",
              "\n",
              "      <script>\n",
              "        const buttonEl =\n",
              "          document.querySelector('#df-e46f1d38-d4ec-4a26-b133-df2ad6fb17e9 button.colab-df-convert');\n",
              "        buttonEl.style.display =\n",
              "          google.colab.kernel.accessAllowed ? 'block' : 'none';\n",
              "\n",
              "        async function convertToInteractive(key) {\n",
              "          const element = document.querySelector('#df-e46f1d38-d4ec-4a26-b133-df2ad6fb17e9');\n",
              "          const dataTable =\n",
              "            await google.colab.kernel.invokeFunction('convertToInteractive',\n",
              "                                                     [key], {});\n",
              "          if (!dataTable) return;\n",
              "\n",
              "          const docLinkHtml = 'Like what you see? Visit the ' +\n",
              "            '<a target=\"_blank\" href=https://colab.research.google.com/notebooks/data_table.ipynb>data table notebook</a>'\n",
              "            + ' to learn more about interactive tables.';\n",
              "          element.innerHTML = '';\n",
              "          dataTable['output_type'] = 'display_data';\n",
              "          await google.colab.output.renderOutput(dataTable, element);\n",
              "          const docLink = document.createElement('div');\n",
              "          docLink.innerHTML = docLinkHtml;\n",
              "          element.appendChild(docLink);\n",
              "        }\n",
              "      </script>\n",
              "    </div>\n",
              "  </div>\n",
              "  "
            ]
          },
          "metadata": {},
          "execution_count": 62
        }
      ]
    },
    {
      "cell_type": "code",
      "source": [
        "df1 = pd.DataFrame(get_users())  "
      ],
      "metadata": {
        "id": "RkeQTGvPUUl5"
      },
      "execution_count": 63,
      "outputs": []
    }
  ]
}